{
 "cells": [
  {
   "cell_type": "code",
   "execution_count": 101,
   "id": "37f6abe5",
   "metadata": {},
   "outputs": [
    {
     "name": "stdout",
     "output_type": "stream",
     "text": [
      "{'pid': 1, 'svt': 75, 'arvt': 0, 'strt': 0, 'iwt': 0, 'et': 0, 'twt': 0, 'tat': 0, 'arr': False}\n",
      "2\n",
      "False\n"
     ]
    }
   ],
   "source": [
    "plist = [{'pid':1, #Process Id(name)\n",
    "       'svt':75, #Service Time(how long the process takes)\n",
    "       'arvt':0, #Arrival Time(when it gets to RR)\n",
    "       'strt':0, #Start time(when the process began)\n",
    "       'iwt':0, #Initial Wait Time(how long it waits to start)\n",
    "       'et':0, #End Time(when it was finished)\n",
    "       'twt':0, #Total Wait Time(time spent waiting)\n",
    "       'tat':0, #Turnaround Time(end time - start time)\n",
    "        'arr':False},#arrival check\n",
    "         {'pid':2,'svt':40,'arvt':10,'strt':0,'iwt':0,\n",
    "         'et':0,'twt':0,'tat':0,'arr':False},\n",
    "         {'pi':3,'svt':25,'arvt':10,'strt':0,'iwt':0,\n",
    "         'et':0,'twt':0,'tat':0,'arr':False},\n",
    "         {'pid':4,'svt':20,'arvt':80,'strt':0,'iwt':0,\n",
    "         'et':0,'twt':0,'tat':0,'arr':False},\n",
    "         {'pid':5,'svt':45,'arvt':85,'strt':0,'iwt':0,\n",
    "         'et':0,'twt':0,'tat':0,'arr':False}]\n",
    "qntm = 10\n",
    "cntx = 0\n",
    "time = 0\n",
    "print(plist[0])\n",
    "print(plist[1]['pid'])\n",
    "print(plist[2]['arr'])\n",
    "\n"
   ]
  },
  {
   "cell_type": "code",
   "execution_count": 100,
   "id": "f175c398",
   "metadata": {},
   "outputs": [
    {
     "name": "stdout",
     "output_type": "stream",
     "text": [
      "Process Id: 1 Start T: 0 Initial wait T: 0 End T: 0 Total wait T: 0 Turnaround T: 0\n"
     ]
    }
   ],
   "source": [
    "output(plist[0])\n",
    "step(qntm, time, plist[0])"
   ]
  },
  {
   "cell_type": "code",
   "execution_count": 87,
   "id": "160a1a12",
   "metadata": {},
   "outputs": [],
   "source": [
    "def step(qntm,time,dict):\n",
    "    dict['svt'] -= qntm\n",
    "    time += qntm\n",
    "    if dict['svt'] < 0:\n",
    "        time += dict['svt']"
   ]
  },
  {
   "cell_type": "code",
   "execution_count": 97,
   "id": "c03668ed",
   "metadata": {},
   "outputs": [],
   "source": [
    "def output(dict):\n",
    "    print('Process Id:',dict['pid'],'Start T:',\n",
    "          \n",
    "          dict['strt'],'Initial wait T:',dict['iwt'],\n",
    "          \n",
    "          'End T:',dict['et'],'Total wait T:',\n",
    "          \n",
    "          dict['twt'],'Turnaround T:',dict['tat'])"
   ]
  },
  {
   "cell_type": "code",
   "execution_count": 1,
   "id": "af1c5999",
   "metadata": {},
   "outputs": [
    {
     "name": "stdout",
     "output_type": "stream",
     "text": [
      "Enter Total Process Number: \n",
      "sd\n"
     ]
    },
    {
     "ename": "ValueError",
     "evalue": "invalid literal for int() with base 10: 'sd'",
     "output_type": "error",
     "traceback": [
      "\u001b[1;31m---------------------------------------------------------------------------\u001b[0m",
      "\u001b[1;31mValueError\u001b[0m                                Traceback (most recent call last)",
      "\u001b[1;32m~\\AppData\\Local\\Temp\\ipykernel_4300\\3893561793.py\u001b[0m in \u001b[0;36m<module>\u001b[1;34m\u001b[0m\n\u001b[0;32m      1\u001b[0m \u001b[0mprint\u001b[0m\u001b[1;33m(\u001b[0m\u001b[1;34m\"Enter Total Process Number: \"\u001b[0m\u001b[1;33m)\u001b[0m\u001b[1;33m\u001b[0m\u001b[1;33m\u001b[0m\u001b[0m\n\u001b[1;32m----> 2\u001b[1;33m \u001b[0mtotal_p_no\u001b[0m \u001b[1;33m=\u001b[0m \u001b[0mint\u001b[0m\u001b[1;33m(\u001b[0m\u001b[0minput\u001b[0m\u001b[1;33m(\u001b[0m\u001b[1;33m)\u001b[0m\u001b[1;33m)\u001b[0m\u001b[1;33m\u001b[0m\u001b[1;33m\u001b[0m\u001b[0m\n\u001b[0m\u001b[0;32m      3\u001b[0m \u001b[0mtotal_time\u001b[0m \u001b[1;33m=\u001b[0m \u001b[1;36m0\u001b[0m\u001b[1;33m\u001b[0m\u001b[1;33m\u001b[0m\u001b[0m\n\u001b[0;32m      4\u001b[0m \u001b[0mtotal_time_counted\u001b[0m \u001b[1;33m=\u001b[0m \u001b[1;36m0\u001b[0m\u001b[1;33m\u001b[0m\u001b[1;33m\u001b[0m\u001b[0m\n\u001b[0;32m      5\u001b[0m \u001b[1;31m# proc is process list\u001b[0m\u001b[1;33m\u001b[0m\u001b[1;33m\u001b[0m\u001b[0m\n",
      "\u001b[1;31mValueError\u001b[0m: invalid literal for int() with base 10: 'sd'"
     ]
    }
   ],
   "source": [
    "print(\"Enter Total Process Number: \")\n",
    "total_p_no = int(input())\n",
    "total_time = 0 \n",
    "total_time_counted = 0\n",
    "# proc is process list\n",
    "proc = []\n",
    "wait_time = 0\n",
    "turnaround_time = 0\n",
    "for _ in range(total_p_no):\n",
    "    # Getting the input for process\n",
    "    print(\"Enter process arrival time and burst time\") \n",
    "    input_info = list(map(int, input().split(\" \")))\n",
    "    arrival, burst, remaining_time = input_info[0], input_info[1], input_info[1]\n",
    "    # processes are appended to the proc list in following format\n",
    "    proc.append([arrival, burst, remaining_time, 0])\n",
    "    # total_time gets incremented with burst time of each process\n",
    "    total_time += burst\n",
    "print(\"Enter time quantum\")\n",
    "time_quantum = int(input())\n",
    "# Keep traversing in round robin manner until the total_time == 0\n",
    "while total_time != 0:\n",
    "    # traverse all the processes\n",
    "    for i in range(len(proc)):\n",
    "        # proc[i][2] here refers to remaining_time for each process i.e \"i\"\n",
    "        if proc[i][2] <= time_quantum and proc[i][2] >= 0:\n",
    "            total_time_counted += proc[i][2]\n",
    "            total_time -= proc[i][2]\n",
    "            # the process has completely ended here thus setting it's remaining time to 0.\n",
    "            proc[i][2] = 0 \n",
    "        elif proc[i][2] > 0:\n",
    "            # if process has not finished, decrementing it's remaining time by time_quantum\n",
    "            proc[i][2] -= time_quantum\n",
    "            total_time -= time_quantum\n",
    "            total_time_counted += time_quantum\n",
    "        if proc[i][2] == 0 and proc[i][3] != 1:\n",
    "            # if remaining time of process is 0\n",
    "            # and \n",
    "            # individual waiting time of process has not been calculated i.e flag\n",
    "            wait_time += total_time_counted - proc[i][0] - proc[i][1]\n",
    "            turnaround_time += total_time_counted - proc[i][0]\n",
    "            # flag is set to 1 once wait time is calculated\n",
    "            proc[i][3] = 1 \n",
    "print(\"\\nAvg Waiting Time is \", (wait_time * 1) / total_p_no)\n",
    "print(\"Avg Turnaround Time is \", (turnaround_time * 1) / total_p_no)"
   ]
  },
  {
   "cell_type": "code",
   "execution_count": 2,
   "id": "bea4f742",
   "metadata": {},
   "outputs": [
    {
     "name": "stdout",
     "output_type": "stream",
     "text": [
      "Process 1: start time = -65, end time = 10, initial wait time = -75, total wait time = -65, turnaround time = 10\n",
      "Process 2: start time = -20, end time = 20, initial wait time = -40, total wait time = -30, turnaround time = 10\n",
      "Process 3: start time = 5, end time = 30, initial wait time = -15, total wait time = -5, turnaround time = 20\n",
      "Process 1: start time = -35, end time = 40, initial wait time = -45, total wait time = -35, turnaround time = 40\n",
      "Process 2: start time = 10, end time = 50, initial wait time = -10, total wait time = 0, turnaround time = 40\n",
      "Process 3: start time = 35, end time = 60, initial wait time = 15, total wait time = 25, turnaround time = 50\n",
      "Process 1: start time = -5, end time = 70, initial wait time = -15, total wait time = -5, turnaround time = 70\n",
      "Process 2: start time = 40, end time = 80, initial wait time = 20, total wait time = 30, turnaround time = 70\n",
      "Process 3: start time = 60, end time = 85, initial wait time = 40, total wait time = 50, turnaround time = 75\n",
      "Process 4: start time = 75, end time = 95, initial wait time = -15, total wait time = -5, turnaround time = 15\n",
      "Process 5: start time = 60, end time = 105, initial wait time = -35, total wait time = -25, turnaround time = 20\n",
      "Process 1: start time = 40, end time = 115, initial wait time = 30, total wait time = 40, turnaround time = 115\n",
      "Process 2: start time = 85, end time = 125, initial wait time = 65, total wait time = 75, turnaround time = 115\n",
      "Process 4: start time = 115, end time = 135, initial wait time = 25, total wait time = 35, turnaround time = 55\n",
      "Process 5: start time = 100, end time = 145, initial wait time = 5, total wait time = 15, turnaround time = 60\n",
      "Process 1: start time = 80, end time = 155, initial wait time = 70, total wait time = 80, turnaround time = 155\n",
      "Process 5: start time = 120, end time = 165, initial wait time = 25, total wait time = 35, turnaround time = 80\n",
      "Process 1: start time = 100, end time = 175, initial wait time = 90, total wait time = 100, turnaround time = 175\n",
      "Process 5: start time = 140, end time = 185, initial wait time = 45, total wait time = 55, turnaround time = 100\n",
      "Process 1: start time = 120, end time = 195, initial wait time = 110, total wait time = 120, turnaround time = 195\n",
      "Process 5: start time = 155, end time = 200, initial wait time = 60, total wait time = 70, turnaround time = 115\n",
      "Process 1: start time = 130, end time = 205, initial wait time = 120, total wait time = 130, turnaround time = 205\n"
     ]
    }
   ],
   "source": [
    "# Define the process arrival times and service times\n",
    "service_times = [75, 40, 25, 20, 45]\n",
    "arrival_times = [0, 10, 10, 80, 85]\n",
    " \n",
    "# Define a list to hold the remaining service time for each process\n",
    "remaining_time = list(service_times)\n",
    " \n",
    "# Define a list to hold the completion times for each process\n",
    "completion_times = [0] * len(arrival_times)\n",
    " \n",
    "# Define a list to hold the start times for each process\n",
    "start_times = [0] * len(arrival_times)\n",
    " \n",
    "# Define a list to hold the wait times for each process\n",
    "wait_times = [0] * len(arrival_times)\n",
    " \n",
    "# Define a list to hold the turnaround times for each process\n",
    "turnaround_times = [0] * len(arrival_times)\n",
    " \n",
    "# Define a variable to hold the current time\n",
    "current_time = 0\n",
    " \n",
    "# Define a list to hold the process IDs\n",
    "process_ids = list(range(1, len(arrival_times)+1))\n",
    " \n",
    "# Define a list to hold the indices of the processes that have not yet completed\n",
    "remaining_processes = list(range(len(arrival_times)))\n",
    " \n",
    "# Define a variable to hold the time quantum\n",
    "time_quantum = 10\n",
    " \n",
    "# Loop until all processes have completed\n",
    "while len(remaining_processes) > 0:\n",
    "    # Loop through the remaining processes\n",
    "    for i in remaining_processes.copy():\n",
    "        # Check if the process has arrived\n",
    "        if arrival_times[i] <= current_time:\n",
    "            # Execute the process for the time quantum or until completion\n",
    "            if remaining_time[i] <= time_quantum:\n",
    "                current_time += remaining_time[i]\n",
    "                remaining_time[i] = 0\n",
    "            else:\n",
    "                current_time += time_quantum\n",
    "                remaining_time[i] -= time_quantum\n",
    "           \n",
    "            # Update the completion time, start time, wait time, and turnaround time\n",
    "            completion_times[i] = current_time#when you update the completion time here it updates\n",
    "            #on every loop instead of when its completed, you could do this in the else statement\n",
    "            start_times[i] = completion_times[i] - service_times[i]#this logic gets messed up because \n",
    "            #of the completion time logic, but also the start time should only be updated once when the\n",
    "            #process begins its processing for the first time and not again after that\n",
    "            wait_times[i] = start_times[i] - arrival_times[i]#wait time should be the summed up time\n",
    "            #spent waiting, should start counting from arrival time, add end time (when it finishes the process)\n",
    "            #and then subtract the service time from that, might need to adjust this if there is time between \n",
    "            #each process running\n",
    "            turnaround_times[i] = completion_times[i] - arrival_times[i]#logic here is solid but because it \n",
    "            #is updating each time its broken, should be updated once for each process after its finished\n",
    "           \n",
    "            # Remove the process from the remaining processes list if it has completed\n",
    "            if remaining_time[i] == 0:\n",
    "                remaining_processes.remove(i)\n",
    "           \n",
    "            # Print the progress of the process\n",
    "            print(f\"Process {process_ids[i]}: start time = {start_times[i]}, end time = {completion_times[i]}, initial wait time = {wait_times[i] - time_quantum}, total wait time = {wait_times[i]}, turnaround time = {turnaround_times[i]}\")\n"
   ]
  },
  {
   "cell_type": "code",
   "execution_count": null,
   "id": "c3dea27d",
   "metadata": {},
   "outputs": [],
   "source": []
  }
 ],
 "metadata": {
  "kernelspec": {
   "display_name": "Python 3 (ipykernel)",
   "language": "python",
   "name": "python3"
  },
  "language_info": {
   "codemirror_mode": {
    "name": "ipython",
    "version": 3
   },
   "file_extension": ".py",
   "mimetype": "text/x-python",
   "name": "python",
   "nbconvert_exporter": "python",
   "pygments_lexer": "ipython3",
   "version": "3.9.13"
  }
 },
 "nbformat": 4,
 "nbformat_minor": 5
}
